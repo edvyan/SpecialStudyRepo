{
 "cells": [
  {
   "cell_type": "markdown",
   "metadata": {},
   "source": [
    "### Data Reading and Extraction\n",
    "The data used is from NASA bearing 2nd_test channel 1, where at the end of the test-to-failure experiment, outer race failure occurrs in bearing 1.  \n",
    "Following works has been done in this file: \n",
    "1. Reading data\n",
    "2. Extract channel 1 data and save it to csv file"
   ]
  },
  {
   "cell_type": "code",
   "execution_count": 16,
   "metadata": {},
   "outputs": [
    {
     "name": "stdout",
     "output_type": "stream",
     "text": [
      "Total files: 984\n"
     ]
    }
   ],
   "source": [
    "import os\n",
    "import pandas as pd\n",
    "import numpy as np\n",
    "from concurrent.futures import ThreadPoolExecutor\n",
    "from natsort import natsorted\n",
    "import scipy.stats as stats\n",
    "\n",
    "# file path, NASA bearing data in data folder \n",
    "folder_path = 'data' \n",
    "file_paths = natsorted([os.path.join(folder_path, f) for f in os.listdir(folder_path)])\n",
    "print(f\"Total files: {len(file_paths)}\")\n"
   ]
  },
  {
   "cell_type": "code",
   "execution_count": 17,
   "metadata": {},
   "outputs": [],
   "source": [
    "# function for file reading with parallel processing\n",
    "def load_file(file_path):\n",
    "    try:\n",
    "        return pd.read_csv(file_path, delimiter='\\t', header=None, usecols=[0], dtype=np.float32)\n",
    "    except Exception as e:\n",
    "        print(f\"Error reading {file_path}: {e}\")\n",
    "        return pd.DataFrame()  # Return empty DataFrame on failure\n",
    "\n",
    "def parallel_read(file_paths, n_threads=8):\n",
    "    with ThreadPoolExecutor(max_workers=n_threads) as executor:\n",
    "        data_frames = list(executor.map(load_file, file_paths))\n",
    "    # Filter out empty DataFrames\n",
    "    data_frames = [df for df in data_frames if not df.empty]\n",
    "    combined_data = pd.concat(data_frames, ignore_index=True)\n",
    "    return combined_data\n",
    "\n",
    "combined_data = parallel_read(file_paths, n_threads=8)"
   ]
  },
  {
   "cell_type": "code",
   "execution_count": 18,
   "metadata": {},
   "outputs": [
    {
     "name": "stdout",
     "output_type": "stream",
     "text": [
      "Data shape after reading: (20152320, 1)\n"
     ]
    }
   ],
   "source": [
    "print(f\"Data shape after reading: {combined_data.shape}\")"
   ]
  },
  {
   "cell_type": "code",
   "execution_count": 19,
   "metadata": {},
   "outputs": [
    {
     "name": "stdout",
     "output_type": "stream",
     "text": [
      "       0\n",
      "0 -0.049\n",
      "1 -0.042\n",
      "2  0.015\n",
      "3 -0.051\n",
      "4 -0.107\n"
     ]
    }
   ],
   "source": [
    "print(combined_data.head())  "
   ]
  },
  {
   "cell_type": "code",
   "execution_count": 20,
   "metadata": {},
   "outputs": [
    {
     "data": {
      "text/plain": [
       "np.int64(0)"
      ]
     },
     "execution_count": 20,
     "metadata": {},
     "output_type": "execute_result"
    }
   ],
   "source": [
    "combined_data.isnull().sum().values[0]"
   ]
  },
  {
   "cell_type": "code",
   "execution_count": 21,
   "metadata": {},
   "outputs": [
    {
     "name": "stdout",
     "output_type": "stream",
     "text": [
      "                  0\n",
      "count  2.015232e+07\n",
      "mean  -1.942867e-03\n",
      "std    1.210052e-01\n",
      "min   -5.000000e+00\n",
      "25%   -6.100000e-02\n",
      "50%   -2.000000e-03\n",
      "75%    5.900000e-02\n",
      "max    4.998000e+00\n"
     ]
    }
   ],
   "source": [
    "print(combined_data.describe()) "
   ]
  },
  {
   "cell_type": "code",
   "execution_count": 22,
   "metadata": {},
   "outputs": [
    {
     "name": "stdout",
     "output_type": "stream",
     "text": [
      "Data saved as CSV file as: channel_1_data.csv\n"
     ]
    }
   ],
   "source": [
    "# Save channel_1 data\n",
    "output_csv_path = \"channel_1_data.csv\"  \n",
    "combined_data.to_csv(output_csv_path, index=False, header=False)\n",
    "print(f\"Data saved as CSV file as: {output_csv_path}\")"
   ]
  }
 ],
 "metadata": {
  "kernelspec": {
   "display_name": "Python 3",
   "language": "python",
   "name": "python3"
  },
  "language_info": {
   "codemirror_mode": {
    "name": "ipython",
    "version": 3
   },
   "file_extension": ".py",
   "mimetype": "text/x-python",
   "name": "python",
   "nbconvert_exporter": "python",
   "pygments_lexer": "ipython3",
   "version": "3.10.11"
  }
 },
 "nbformat": 4,
 "nbformat_minor": 2
}
